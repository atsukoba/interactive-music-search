{
 "cells": [
  {
   "cell_type": "markdown",
   "metadata": {},
   "source": [
    "# Database handling"
   ]
  },
  {
   "cell_type": "code",
   "execution_count": null,
   "metadata": {},
   "outputs": [],
   "source": [
    "import json\n",
    "\n",
    "with open(\"../environment.json\", \"r\") as f:\n",
    "    env = json.load(f)"
   ]
  },
  {
   "cell_type": "code",
   "execution_count": null,
   "metadata": {},
   "outputs": [],
   "source": [
    "import pandas as pd\n",
    "from sqlalchemy import create_engine\n",
    "\n",
    "df = pd.DataFrame()\n",
    "\n",
    "# データベースの接続情報\n",
    "connection_config = {\n",
    "    'user': env[\"DATABASE_USER\"],\n",
    "    'password': env[\"DATABASE_PASSWORD\"],\n",
    "    'host': env[\"DATABASE_HOST\"],\n",
    "    'database': 'songs'\n",
    "}\n",
    "\n",
    "engine = create_engine('postgresql://{user}:{password}@{host}/{database}'.format(**connection_config), echo=True)"
   ]
  },
  {
   "cell_type": "markdown",
   "metadata": {},
   "source": [
    "### Connect to db"
   ]
  },
  {
   "cell_type": "code",
   "execution_count": null,
   "metadata": {},
   "outputs": [],
   "source": [
    "from sqlalchemy import text\n",
    "\n",
    "with engine.connect() as conn:\n",
    "    result = conn.execute(text(\"select md5 from song;\"))\n",
    "len(list(result))"
   ]
  },
  {
   "cell_type": "code",
   "execution_count": null,
   "metadata": {},
   "outputs": [],
   "source": [
    "import pandas as pd\n",
    "import json\n",
    "import os\n",
    "from glob import glob\n",
    "\n",
    "with open(os.path.join(env[\"DATASET_PATH\"], \"MMD_audio_matched_genre.jsonl\"), \"r\") as f:\n",
    "    MMD_audio_matched_genre = [json.loads(d) for d in list(f)]\n",
    "\n",
    "\n",
    "MMD_md5_metainfo = pd.read_csv(os.path.join(env[\"DATASET_PATH\"], \"MMD_md5_metainfo.tsv\"),  sep=\"\\t\")\n",
    "MMD_audio_matches = pd.read_csv(os.path.join(env[\"DATASET_PATH\"], \"MMD_audio_matches.tsv\"), sep=\"\\t\")\n",
    "MMD_audio_matches.head()"
   ]
  },
  {
   "cell_type": "code",
   "execution_count": null,
   "metadata": {},
   "outputs": [],
   "source": [
    "MMD_md5_metainfo.head()"
   ]
  },
  {
   "cell_type": "code",
   "execution_count": null,
   "metadata": {},
   "outputs": [],
   "source": [
    "songs = pd.merge(MMD_md5_metainfo[[\"md5\", \"artist\", \"title\"]], MMD_audio_matches[[\"md5\", \"sid\"]]).dropna()\n",
    "songs.columns = [\"md5\", \"artist\", \"title\", \"spotify_track_id\"]\n",
    "songs.drop_duplicates(subset=[\"md5\"], inplace=True)\n",
    "songs.drop_duplicates(subset=[\"spotify_track_id\"], inplace=True)\n",
    "songs.head()"
   ]
  },
  {
   "cell_type": "code",
   "execution_count": null,
   "metadata": {},
   "outputs": [],
   "source": [
    "songs.describe()"
   ]
  },
  {
   "cell_type": "markdown",
   "metadata": {},
   "source": [
    "\n",
    "databaase song\n",
    "\n",
    "md5 | spotify_track_id | title | artist | year"
   ]
  },
  {
   "cell_type": "code",
   "execution_count": null,
   "metadata": {},
   "outputs": [],
   "source": [
    "with engine.connect() as conn:\n",
    "    result = conn.execute(text(\"select * from song;\"))\n",
    "    [print(row) for row in result]"
   ]
  },
  {
   "cell_type": "code",
   "execution_count": null,
   "metadata": {},
   "outputs": [],
   "source": [
    "songs.to_sql(\"song\", con=engine, if_exists=\"append\", index=False)"
   ]
  },
  {
   "cell_type": "code",
   "execution_count": null,
   "metadata": {},
   "outputs": [],
   "source": []
  }
 ],
 "metadata": {
  "interpreter": {
   "hash": "e321834870da4cf355bb68ec89083b5eb57949312b7d37019e3d039f04b32fe9"
  },
  "kernelspec": {
   "display_name": "Python 3.9.7 ('album-covers-vqvae')",
   "language": "python",
   "name": "python3"
  },
  "language_info": {
   "codemirror_mode": {
    "name": "ipython",
    "version": 3
   },
   "file_extension": ".py",
   "mimetype": "text/x-python",
   "name": "python",
   "nbconvert_exporter": "python",
   "pygments_lexer": "ipython3",
   "version": "3.9.7"
  },
  "orig_nbformat": 4
 },
 "nbformat": 4,
 "nbformat_minor": 2
}
