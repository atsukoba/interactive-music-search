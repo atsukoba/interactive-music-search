{
 "cells": [
  {
   "cell_type": "markdown",
   "metadata": {},
   "source": [
    "# Database handling"
   ]
  },
  {
   "cell_type": "code",
   "execution_count": null,
   "metadata": {},
   "outputs": [],
   "source": [
    "import pandas as pd\n",
    "from sqlalchemy import create_engine\n",
    "\n",
    "df = pd.DataFrame()\n",
    "\n",
    "# データベースの接続情報\n",
    "connection_config = {\n",
    "    'user': 'ユーザー名',\n",
    "    'password': '',\n",
    "    'host': 'localhost',\n",
    "    'port': 'ポート番号', # なくてもOK\n",
    "    'database': 'データベース名'\n",
    "}\n",
    "\n",
    "engine = create_engine('postgresql://{user}:{password}@{host}:{port}/{database}'.format(**connection_config))\n",
    "\n",
    "# PostgreSQLに書き込む\n",
    "df.to_sql('テーブル名', con=engine, if_exists='appendまたはreplace', index=False)\n"
   ]
  }
 ],
 "metadata": {
  "interpreter": {
   "hash": "e321834870da4cf355bb68ec89083b5eb57949312b7d37019e3d039f04b32fe9"
  },
  "kernelspec": {
   "display_name": "Python 3.9.7 ('album-covers-vqvae')",
   "language": "python",
   "name": "python3"
  },
  "language_info": {
   "name": "python",
   "version": "3.9.7"
  },
  "orig_nbformat": 4
 },
 "nbformat": 4,
 "nbformat_minor": 2
}
