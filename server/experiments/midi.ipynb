{
 "cells": [
  {
   "cell_type": "markdown",
   "metadata": {},
   "source": [
    "# MIDI Feature Extraction"
   ]
  },
  {
   "cell_type": "code",
   "execution_count": 1,
   "metadata": {},
   "outputs": [],
   "source": [
    "import librosa\n",
    "from glob import glob\n",
    "import sys\n",
    "import os\n",
    "\n",
    "sys.path.append(os.path.abspath(\"../\"))"
   ]
  },
  {
   "cell_type": "code",
   "execution_count": 2,
   "metadata": {},
   "outputs": [
    {
     "name": "stderr",
     "output_type": "stream",
     "text": [
      "2022-06-16 04:09:20,908 - datasets.py - INFO - Loading MMD_audio_matched_genre data\n",
      "2022-06-16 04:09:21,253 - datasets.py - INFO - Loading MMD_md5_metainfo data\n",
      "2022-06-16 04:09:21,413 - datasets.py - INFO - Loading MMD_audio_matches data\n"
     ]
    }
   ],
   "source": [
    "from src.datasets import MMD_audio_matches, MMD_md5_metainfo"
   ]
  },
  {
   "cell_type": "code",
   "execution_count": 5,
   "metadata": {},
   "outputs": [
    {
     "data": {
      "text/plain": [
       "'/data1/meta_midi_dataset/MMD_MIDI/9/7/7/977349d0bec3fed4bd2bef1b57c597d4.mid'"
      ]
     },
     "execution_count": 5,
     "metadata": {},
     "output_type": "execute_result"
    }
   ],
   "source": [
    "from src.utils import get_md5_from_path, get_midi_path_from_md5, get_midi_path_from_md5_with_check, env\n",
    "\n",
    "get_midi_path_from_md5(MMD_audio_matches.md5.values[0])"
   ]
  },
  {
   "cell_type": "code",
   "execution_count": 8,
   "metadata": {},
   "outputs": [
    {
     "data": {
      "text/plain": [
       "['65yDyFGWY1nAAEIoPoGSL6',\n",
       " '65ygse6Fdnez361FitMvHB',\n",
       " '65yMioAFRtmChAuc8WUFBM',\n",
       " '65yCuO1rnfwmaX69TvlbYl',\n",
       " '65ynkEZJeQskFFZRoqmaLp']"
      ]
     },
     "execution_count": 8,
     "metadata": {},
     "output_type": "execute_result"
    }
   ],
   "source": [
    "audio_files = glob(os.path.join(env[\"DATASET_PATH\"], \"spotify_sample\", \"**\", \"*.mp3\"), recursive=True)\n",
    "sids = [p.split(os.path.sep)[-1].replace(\".mp3\", \"\") for p in audio_files]\n",
    "sids[:5]"
   ]
  },
  {
   "cell_type": "code",
   "execution_count": 13,
   "metadata": {},
   "outputs": [
    {
     "data": {
      "text/html": [
       "<div>\n",
       "<style scoped>\n",
       "    .dataframe tbody tr th:only-of-type {\n",
       "        vertical-align: middle;\n",
       "    }\n",
       "\n",
       "    .dataframe tbody tr th {\n",
       "        vertical-align: top;\n",
       "    }\n",
       "\n",
       "    .dataframe thead th {\n",
       "        text-align: right;\n",
       "    }\n",
       "</style>\n",
       "<table border=\"1\" class=\"dataframe\">\n",
       "  <thead>\n",
       "    <tr style=\"text-align: right;\">\n",
       "      <th></th>\n",
       "      <th>md5</th>\n",
       "      <th>score</th>\n",
       "      <th>sid</th>\n",
       "    </tr>\n",
       "  </thead>\n",
       "  <tbody>\n",
       "    <tr>\n",
       "      <th>0</th>\n",
       "      <td>977349d0bec3fed4bd2bef1b57c597d4</td>\n",
       "      <td>0.554720</td>\n",
       "      <td>5n3es2C6R47r4WGfmYL9vZ</td>\n",
       "    </tr>\n",
       "    <tr>\n",
       "      <th>1</th>\n",
       "      <td>a8ab220d3e771f14994bcb6104a6e733</td>\n",
       "      <td>0.910470</td>\n",
       "      <td>65yDyFGWY1nAAEIoPoGSL6</td>\n",
       "    </tr>\n",
       "    <tr>\n",
       "      <th>2</th>\n",
       "      <td>a8ab220d3e771f14994bcb6104a6e733</td>\n",
       "      <td>0.743186</td>\n",
       "      <td>6WRwxMiwig6czraGVt3xEB</td>\n",
       "    </tr>\n",
       "    <tr>\n",
       "      <th>3</th>\n",
       "      <td>a8ab220d3e771f14994bcb6104a6e733</td>\n",
       "      <td>0.775063</td>\n",
       "      <td>6X72YoEcN8Iuw4e70NMb1V</td>\n",
       "    </tr>\n",
       "    <tr>\n",
       "      <th>4</th>\n",
       "      <td>a8ab220d3e771f14994bcb6104a6e733</td>\n",
       "      <td>0.675244</td>\n",
       "      <td>1Yg4ZDCR9z6AEHwEuWqNAe</td>\n",
       "    </tr>\n",
       "    <tr>\n",
       "      <th>...</th>\n",
       "      <td>...</td>\n",
       "      <td>...</td>\n",
       "      <td>...</td>\n",
       "    </tr>\n",
       "    <tr>\n",
       "      <th>10796552</th>\n",
       "      <td>055b5942bd76781f7b15f6e22191e8d7</td>\n",
       "      <td>0.533297</td>\n",
       "      <td>1wbBb6ptQaNsesydMNq3Gs</td>\n",
       "    </tr>\n",
       "    <tr>\n",
       "      <th>10796553</th>\n",
       "      <td>0e8a0136092a5f661b8c659808f57c13</td>\n",
       "      <td>0.563319</td>\n",
       "      <td>0Dm8i6nlNyElUTagyRPeiP</td>\n",
       "    </tr>\n",
       "    <tr>\n",
       "      <th>10796554</th>\n",
       "      <td>0e8a0136092a5f661b8c659808f57c13</td>\n",
       "      <td>0.567955</td>\n",
       "      <td>5FSjUWgBaezzEbsft1S6Iy</td>\n",
       "    </tr>\n",
       "    <tr>\n",
       "      <th>10796555</th>\n",
       "      <td>0e8a0136092a5f661b8c659808f57c13</td>\n",
       "      <td>0.542153</td>\n",
       "      <td>0aHgqVczBG5EFiecFeOFzn</td>\n",
       "    </tr>\n",
       "    <tr>\n",
       "      <th>10796556</th>\n",
       "      <td>0e8a0136092a5f661b8c659808f57c13</td>\n",
       "      <td>0.508938</td>\n",
       "      <td>5bOng0ZyQ8KJ0aw8AFvoeA</td>\n",
       "    </tr>\n",
       "  </tbody>\n",
       "</table>\n",
       "<p>10796557 rows × 3 columns</p>\n",
       "</div>"
      ],
      "text/plain": [
       "                                       md5     score                     sid\n",
       "0         977349d0bec3fed4bd2bef1b57c597d4  0.554720  5n3es2C6R47r4WGfmYL9vZ\n",
       "1         a8ab220d3e771f14994bcb6104a6e733  0.910470  65yDyFGWY1nAAEIoPoGSL6\n",
       "2         a8ab220d3e771f14994bcb6104a6e733  0.743186  6WRwxMiwig6czraGVt3xEB\n",
       "3         a8ab220d3e771f14994bcb6104a6e733  0.775063  6X72YoEcN8Iuw4e70NMb1V\n",
       "4         a8ab220d3e771f14994bcb6104a6e733  0.675244  1Yg4ZDCR9z6AEHwEuWqNAe\n",
       "...                                    ...       ...                     ...\n",
       "10796552  055b5942bd76781f7b15f6e22191e8d7  0.533297  1wbBb6ptQaNsesydMNq3Gs\n",
       "10796553  0e8a0136092a5f661b8c659808f57c13  0.563319  0Dm8i6nlNyElUTagyRPeiP\n",
       "10796554  0e8a0136092a5f661b8c659808f57c13  0.567955  5FSjUWgBaezzEbsft1S6Iy\n",
       "10796555  0e8a0136092a5f661b8c659808f57c13  0.542153  0aHgqVczBG5EFiecFeOFzn\n",
       "10796556  0e8a0136092a5f661b8c659808f57c13  0.508938  5bOng0ZyQ8KJ0aw8AFvoeA\n",
       "\n",
       "[10796557 rows x 3 columns]"
      ]
     },
     "execution_count": 13,
     "metadata": {},
     "output_type": "execute_result"
    }
   ],
   "source": [
    "MMD_audio_matches"
   ]
  },
  {
   "cell_type": "code",
   "execution_count": 12,
   "metadata": {},
   "outputs": [
    {
     "data": {
      "text/html": [
       "<div>\n",
       "<style scoped>\n",
       "    .dataframe tbody tr th:only-of-type {\n",
       "        vertical-align: middle;\n",
       "    }\n",
       "\n",
       "    .dataframe tbody tr th {\n",
       "        vertical-align: top;\n",
       "    }\n",
       "\n",
       "    .dataframe thead th {\n",
       "        text-align: right;\n",
       "    }\n",
       "</style>\n",
       "<table border=\"1\" class=\"dataframe\">\n",
       "  <thead>\n",
       "    <tr style=\"text-align: right;\">\n",
       "      <th></th>\n",
       "      <th>md5</th>\n",
       "      <th>score</th>\n",
       "      <th>sid</th>\n",
       "    </tr>\n",
       "  </thead>\n",
       "  <tbody>\n",
       "    <tr>\n",
       "      <th>1</th>\n",
       "      <td>a8ab220d3e771f14994bcb6104a6e733</td>\n",
       "      <td>0.910470</td>\n",
       "      <td>65yDyFGWY1nAAEIoPoGSL6</td>\n",
       "    </tr>\n",
       "    <tr>\n",
       "      <th>2</th>\n",
       "      <td>a8ab220d3e771f14994bcb6104a6e733</td>\n",
       "      <td>0.743186</td>\n",
       "      <td>6WRwxMiwig6czraGVt3xEB</td>\n",
       "    </tr>\n",
       "    <tr>\n",
       "      <th>33</th>\n",
       "      <td>aa752993c389e95bd0b6a00168142308</td>\n",
       "      <td>0.554295</td>\n",
       "      <td>3FEHv0NlGXYzdUwiIaoJY8</td>\n",
       "    </tr>\n",
       "    <tr>\n",
       "      <th>52</th>\n",
       "      <td>a9c5968116d7af8301a2e8cfdd5a5d4c</td>\n",
       "      <td>0.570854</td>\n",
       "      <td>68Dv1YMlBfXQzU7KYKWqSY</td>\n",
       "    </tr>\n",
       "    <tr>\n",
       "      <th>70</th>\n",
       "      <td>ac45c832a78728aa8822a3df637682c3</td>\n",
       "      <td>0.500152</td>\n",
       "      <td>6YXIx2Xx0KTp8NVyhxAjpw</td>\n",
       "    </tr>\n",
       "    <tr>\n",
       "      <th>...</th>\n",
       "      <td>...</td>\n",
       "      <td>...</td>\n",
       "      <td>...</td>\n",
       "    </tr>\n",
       "    <tr>\n",
       "      <th>10796529</th>\n",
       "      <td>05c7c17ab46ef96d408eb4aeca1ba61e</td>\n",
       "      <td>0.525340</td>\n",
       "      <td>69lUWH2dqqIk0wdC3AlI7U</td>\n",
       "    </tr>\n",
       "    <tr>\n",
       "      <th>10796532</th>\n",
       "      <td>05c7c17ab46ef96d408eb4aeca1ba61e</td>\n",
       "      <td>0.540325</td>\n",
       "      <td>7syWc3SQlklbSdi3WRnnqj</td>\n",
       "    </tr>\n",
       "    <tr>\n",
       "      <th>10796533</th>\n",
       "      <td>05c7c17ab46ef96d408eb4aeca1ba61e</td>\n",
       "      <td>0.540325</td>\n",
       "      <td>59PzGioNVVi53eGl77vZtY</td>\n",
       "    </tr>\n",
       "    <tr>\n",
       "      <th>10796552</th>\n",
       "      <td>055b5942bd76781f7b15f6e22191e8d7</td>\n",
       "      <td>0.533297</td>\n",
       "      <td>1wbBb6ptQaNsesydMNq3Gs</td>\n",
       "    </tr>\n",
       "    <tr>\n",
       "      <th>10796556</th>\n",
       "      <td>0e8a0136092a5f661b8c659808f57c13</td>\n",
       "      <td>0.508938</td>\n",
       "      <td>5bOng0ZyQ8KJ0aw8AFvoeA</td>\n",
       "    </tr>\n",
       "  </tbody>\n",
       "</table>\n",
       "<p>2588752 rows × 3 columns</p>\n",
       "</div>"
      ],
      "text/plain": [
       "                                       md5     score                     sid\n",
       "1         a8ab220d3e771f14994bcb6104a6e733  0.910470  65yDyFGWY1nAAEIoPoGSL6\n",
       "2         a8ab220d3e771f14994bcb6104a6e733  0.743186  6WRwxMiwig6czraGVt3xEB\n",
       "33        aa752993c389e95bd0b6a00168142308  0.554295  3FEHv0NlGXYzdUwiIaoJY8\n",
       "52        a9c5968116d7af8301a2e8cfdd5a5d4c  0.570854  68Dv1YMlBfXQzU7KYKWqSY\n",
       "70        ac45c832a78728aa8822a3df637682c3  0.500152  6YXIx2Xx0KTp8NVyhxAjpw\n",
       "...                                    ...       ...                     ...\n",
       "10796529  05c7c17ab46ef96d408eb4aeca1ba61e  0.525340  69lUWH2dqqIk0wdC3AlI7U\n",
       "10796532  05c7c17ab46ef96d408eb4aeca1ba61e  0.540325  7syWc3SQlklbSdi3WRnnqj\n",
       "10796533  05c7c17ab46ef96d408eb4aeca1ba61e  0.540325  59PzGioNVVi53eGl77vZtY\n",
       "10796552  055b5942bd76781f7b15f6e22191e8d7  0.533297  1wbBb6ptQaNsesydMNq3Gs\n",
       "10796556  0e8a0136092a5f661b8c659808f57c13  0.508938  5bOng0ZyQ8KJ0aw8AFvoeA\n",
       "\n",
       "[2588752 rows x 3 columns]"
      ]
     },
     "execution_count": 12,
     "metadata": {},
     "output_type": "execute_result"
    }
   ],
   "source": [
    "MMD_audio_matches[MMD_audio_matches.sid.isin(sids)]"
   ]
  },
  {
   "cell_type": "code",
   "execution_count": 14,
   "metadata": {},
   "outputs": [
    {
     "data": {
      "text/plain": [
       "2588752"
      ]
     },
     "execution_count": 14,
     "metadata": {},
     "output_type": "execute_result"
    }
   ],
   "source": [
    "midi_files = [p for md5 in MMD_audio_matches[MMD_audio_matches.sid.isin(sids)].md5\n",
    "              if (p := get_midi_path_from_md5_with_check(md5)) is not None]\n",
    "len(midi_files)"
   ]
  },
  {
   "cell_type": "code",
   "execution_count": 15,
   "metadata": {},
   "outputs": [
    {
     "data": {
      "text/plain": [
       "'/data1/meta_midi_dataset/MMD_MIDI/a/8/a/a8ab220d3e771f14994bcb6104a6e733.mid'"
      ]
     },
     "execution_count": 15,
     "metadata": {},
     "output_type": "execute_result"
    }
   ],
   "source": [
    "midi_files[0]"
   ]
  },
  {
   "cell_type": "code",
   "execution_count": 17,
   "metadata": {},
   "outputs": [
    {
     "name": "stdout",
     "output_type": "stream",
     "text": [
      "avg_IOI: 0.3501526088580247 <class 'numpy.float64'>\n",
      "avg_pitch_shift: 12.338129496402878 <class 'numpy.float64'>\n",
      "bar_pitch_class_histogram: (26, 12) 312 <class 'numpy.ndarray'>\n",
      "bar_used_note: "
     ]
    },
    {
     "ename": "IndexError",
     "evalue": "only integers, slices (`:`), ellipsis (`...`), numpy.newaxis (`None`) and integer or boolean arrays are valid indices",
     "output_type": "error",
     "traceback": [
      "\u001b[0;31m---------------------------------------------------------------------------\u001b[0m",
      "\u001b[0;31mIndexError\u001b[0m                                Traceback (most recent call last)",
      "\u001b[0;32m/tmp/ipykernel_32563/658391807.py\u001b[0m in \u001b[0;36m<module>\u001b[0;34m\u001b[0m\n\u001b[1;32m      8\u001b[0m \u001b[0;32mfor\u001b[0m \u001b[0mfn\u001b[0m \u001b[0;32min\u001b[0m \u001b[0mall_feature_names\u001b[0m\u001b[0;34m:\u001b[0m\u001b[0;34m\u001b[0m\u001b[0;34m\u001b[0m\u001b[0m\n\u001b[1;32m      9\u001b[0m     \u001b[0mprint\u001b[0m\u001b[0;34m(\u001b[0m\u001b[0mfn\u001b[0m\u001b[0;34m,\u001b[0m \u001b[0mend\u001b[0m\u001b[0;34m=\u001b[0m\u001b[0;34m\": \"\u001b[0m\u001b[0;34m)\u001b[0m\u001b[0;34m\u001b[0m\u001b[0;34m\u001b[0m\u001b[0m\n\u001b[0;32m---> 10\u001b[0;31m     \u001b[0mres\u001b[0m \u001b[0;34m=\u001b[0m \u001b[0mgetattr\u001b[0m\u001b[0;34m(\u001b[0m\u001b[0mmet\u001b[0m\u001b[0;34m,\u001b[0m \u001b[0mfn\u001b[0m\u001b[0;34m)\u001b[0m\u001b[0;34m(\u001b[0m\u001b[0mfeature\u001b[0m\u001b[0;34m)\u001b[0m\u001b[0;34m\u001b[0m\u001b[0;34m\u001b[0m\u001b[0m\n\u001b[0m\u001b[1;32m     11\u001b[0m     \u001b[0;32mif\u001b[0m \u001b[0mtype\u001b[0m\u001b[0;34m(\u001b[0m\u001b[0mres\u001b[0m\u001b[0;34m)\u001b[0m \u001b[0;32mis\u001b[0m \u001b[0mnp\u001b[0m\u001b[0;34m.\u001b[0m\u001b[0mndarray\u001b[0m\u001b[0;34m:\u001b[0m\u001b[0;34m\u001b[0m\u001b[0;34m\u001b[0m\u001b[0m\n\u001b[1;32m     12\u001b[0m         \u001b[0mprint\u001b[0m\u001b[0;34m(\u001b[0m\u001b[0mres\u001b[0m\u001b[0;34m.\u001b[0m\u001b[0mshape\u001b[0m\u001b[0;34m,\u001b[0m \u001b[0mres\u001b[0m\u001b[0;34m.\u001b[0m\u001b[0msize\u001b[0m\u001b[0;34m,\u001b[0m \u001b[0mtype\u001b[0m\u001b[0;34m(\u001b[0m\u001b[0mres\u001b[0m\u001b[0;34m)\u001b[0m\u001b[0;34m)\u001b[0m\u001b[0;34m\u001b[0m\u001b[0;34m\u001b[0m\u001b[0m\n",
      "\u001b[0;32m~/interactive-music-search/server/src/mgeval/mgeval/core.py\u001b[0m in \u001b[0;36mbar_used_note\u001b[0;34m(self, feature, track_num, num_bar)\u001b[0m\n\u001b[1;32m    196\u001b[0m                     \u001b[0;32mif\u001b[0m \u001b[0midx\u001b[0m \u001b[0;34m>=\u001b[0m \u001b[0mnum_bar\u001b[0m\u001b[0;34m:\u001b[0m\u001b[0;34m\u001b[0m\u001b[0;34m\u001b[0m\u001b[0m\n\u001b[1;32m    197\u001b[0m                         \u001b[0;32mcontinue\u001b[0m\u001b[0;34m\u001b[0m\u001b[0;34m\u001b[0m\u001b[0m\n\u001b[0;32m--> 198\u001b[0;31m                     \u001b[0mused_notes\u001b[0m\u001b[0;34m[\u001b[0m\u001b[0midx\u001b[0m\u001b[0;34m]\u001b[0m \u001b[0;34m+=\u001b[0m \u001b[0;36m1\u001b[0m\u001b[0;34m\u001b[0m\u001b[0;34m\u001b[0m\u001b[0m\n\u001b[0m\u001b[1;32m    199\u001b[0m         \u001b[0;32mreturn\u001b[0m \u001b[0mused_notes\u001b[0m\u001b[0;34m\u001b[0m\u001b[0;34m\u001b[0m\u001b[0m\n\u001b[1;32m    200\u001b[0m \u001b[0;34m\u001b[0m\u001b[0m\n",
      "\u001b[0;31mIndexError\u001b[0m: only integers, slices (`:`), ellipsis (`...`), numpy.newaxis (`None`) and integer or boolean arrays are valid indices"
     ]
    }
   ],
   "source": [
    "import numpy as np\n",
    "from src.mgeval.mgeval.core import MgevalMetrics, extract_feature\n",
    "\n",
    "met = MgevalMetrics()\n",
    "feature = extract_feature(midi_files[0], drums=False)\n",
    "all_feature_names = list(filter(lambda a: a[0] != \"_\", dir(MgevalMetrics)))\n",
    "\n",
    "for fn in all_feature_names:\n",
    "    print(fn, end=\": \")\n",
    "    res = getattr(met, fn)(feature)\n",
    "    if type(res) is np.ndarray:\n",
    "        print(res.shape, res.size, type(res))\n",
    "    else:\n",
    "        print(res, type(res))"
   ]
  },
  {
   "cell_type": "code",
   "execution_count": null,
   "metadata": {},
   "outputs": [],
   "source": []
  }
 ],
 "metadata": {
  "interpreter": {
   "hash": "e321834870da4cf355bb68ec89083b5eb57949312b7d37019e3d039f04b32fe9"
  },
  "kernelspec": {
   "display_name": "Python 3.9.7 ('album-covers-vqvae')",
   "language": "python",
   "name": "python3"
  },
  "language_info": {
   "codemirror_mode": {
    "name": "ipython",
    "version": 3
   },
   "file_extension": ".py",
   "mimetype": "text/x-python",
   "name": "python",
   "nbconvert_exporter": "python",
   "pygments_lexer": "ipython3",
   "version": "3.9.7"
  },
  "orig_nbformat": 4
 },
 "nbformat": 4,
 "nbformat_minor": 2
}
