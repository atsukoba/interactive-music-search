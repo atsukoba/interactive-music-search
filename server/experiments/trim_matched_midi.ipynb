{
 "cells": [
  {
   "cell_type": "markdown",
   "metadata": {},
   "source": [
    "# MIDI Sequence Trimming based on Audio Match info"
   ]
  },
  {
   "cell_type": "markdown",
   "metadata": {},
   "source": []
  }
 ],
 "metadata": {
  "kernelspec": {
   "display_name": "Python 3.10.4 64-bit ('musicvae')",
   "language": "python",
   "name": "python3"
  },
  "language_info": {
   "name": "python",
   "version": "3.10.4"
  },
  "orig_nbformat": 4,
  "vscode": {
   "interpreter": {
    "hash": "0fe5182ea1612d991abab4abe4ae6579b661970a30252adee1657d005422f463"
   }
  }
 },
 "nbformat": 4,
 "nbformat_minor": 2
}
